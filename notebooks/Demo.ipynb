{
 "cells": [
  {
   "cell_type": "markdown",
   "id": "1ed7a8a9-b0b3-4750-8977-733fdfb28202",
   "metadata": {},
   "source": [
    "### Operator Day 2023 - Charmed Spark"
   ]
  },
  {
   "cell_type": "markdown",
   "id": "f2085f22-245f-4987-9e2a-23caa2081e20",
   "metadata": {},
   "source": [
    "Check that Spark is running"
   ]
  },
  {
   "cell_type": "code",
   "execution_count": null,
   "id": "e2589432-9283-442b-83f3-70fe6d1ff5c7",
   "metadata": {},
   "outputs": [],
   "source": [
    "sc"
   ]
  },
  {
   "cell_type": "code",
   "execution_count": null,
   "id": "3606c423-b21f-4088-896a-e532a31bb70a",
   "metadata": {},
   "outputs": [],
   "source": [
    "%matplotlib inline"
   ]
  },
  {
   "cell_type": "code",
   "execution_count": null,
   "id": "1bcb3bff-3666-40ff-95fc-b55ffa984430",
   "metadata": {},
   "outputs": [],
   "source": [
    "S3_BUCKET=\"operator-day-2023-charmed-spark\""
   ]
  },
  {
   "cell_type": "markdown",
   "id": "7cef3e64-142e-47e8-b72f-05449b2df0b5",
   "metadata": {},
   "source": [
    "#### Read data"
   ]
  },
  {
   "cell_type": "code",
   "execution_count": null,
   "id": "03844768-13f2-4081-b73d-245ad8a7361c",
   "metadata": {},
   "outputs": [],
   "source": [
    "df = spark.read.format(\"csv\")\\\n",
    "    .option(\"inferSchema\", \"true\")\\\n",
    "    .option(\"header\", \"true\")\\\n",
    "    .load(f\"s3a://{S3_BUCKET}/data/data.csv.gz\")"
   ]
  },
  {
   "cell_type": "code",
   "execution_count": null,
   "id": "14d8d336-37dd-4a83-be7c-5f9f52319b71",
   "metadata": {},
   "outputs": [],
   "source": [
    "df.printSchema()"
   ]
  },
  {
   "cell_type": "code",
   "execution_count": null,
   "id": "25f23848-efc0-4889-9af1-ba75af040d05",
   "metadata": {},
   "outputs": [],
   "source": [
    "df.show(truncate=True)"
   ]
  },
  {
   "cell_type": "markdown",
   "id": "8c6280ff-a817-4345-a368-5ad288e874f4",
   "metadata": {},
   "source": [
    "#### Analyze the data"
   ]
  },
  {
   "cell_type": "code",
   "execution_count": null,
   "id": "1fb5abb7-d17b-4023-a5f7-934061a4ae72",
   "metadata": {},
   "outputs": [],
   "source": [
    "from pyspark.sql.functions import col"
   ]
  },
  {
   "cell_type": "markdown",
   "id": "0cc88466-908b-4848-8fe3-6a31cee6f19d",
   "metadata": {},
   "source": [
    "##### Top Products"
   ]
  },
  {
   "cell_type": "code",
   "execution_count": null,
   "id": "2b3faca6-8fb9-4c73-8ea6-08af555d88f3",
   "metadata": {},
   "outputs": [],
   "source": [
    "quantity_by_stock_code = \\\n",
    "    df.groupBy(\"StockCode\").sum(\"Quantity\")\n",
    "\n",
    "quantity_by_stock_code"
   ]
  },
  {
   "cell_type": "code",
   "execution_count": null,
   "id": "422b86f0-b18f-41d3-af13-c4c6a6f5784c",
   "metadata": {},
   "outputs": [],
   "source": [
    "top_sellers = \\\n",
    "    quantity_by_stock_code\\\n",
    "        .sort(col(\"sum(Quantity)\").desc())\\\n",
    "        .limit(10)\\\n",
    "        .toPandas().set_index(\"StockCode\")\n",
    "\n",
    "top_sellers"
   ]
  },
  {
   "cell_type": "code",
   "execution_count": null,
   "id": "4eb37481",
   "metadata": {},
   "outputs": [],
   "source": [
    "top_sellers.plot(kind=\"bar\")"
   ]
  },
  {
   "cell_type": "markdown",
   "id": "a9f38876-f06d-4a15-b0c4-4f04069f4e87",
   "metadata": {},
   "source": [
    "##### Geographic Distribution "
   ]
  },
  {
   "cell_type": "code",
   "execution_count": null,
   "id": "4e1918ac-ee62-473c-ac0a-4eb5188f787f",
   "metadata": {},
   "outputs": [],
   "source": [
    "country_sales = df.groupBy(\"Country\").sum(\"Quantity\").sort(col(\"sum(Quantity)\").desc()).toPandas().set_index(\"Country\")\n",
    "\n",
    "country_sales"
   ]
  },
  {
   "cell_type": "markdown",
   "id": "12e30c2e-8c30-4049-b0bd-28c637f4adf0",
   "metadata": {},
   "source": [
    "#### Next steps"
   ]
  },
  {
   "cell_type": "markdown",
   "id": "f8037fb2-7e9d-4d8f-97fb-6fce53c33b06",
   "metadata": {},
   "source": [
    "What if we were to generate a report, with StockCode and Country, to be sent out to Country managers to help them understand their market and build a strategy around this"
   ]
  }
 ],
 "metadata": {
  "kernelspec": {
   "display_name": "Python 3 (ipykernel)",
   "language": "python",
   "name": "python3"
  },
  "language_info": {
   "codemirror_mode": {
    "name": "ipython",
    "version": 3
   },
   "file_extension": ".py",
   "mimetype": "text/x-python",
   "name": "python",
   "nbconvert_exporter": "python",
   "pygments_lexer": "ipython3",
   "version": "3.10.12"
  }
 },
 "nbformat": 4,
 "nbformat_minor": 5
}
